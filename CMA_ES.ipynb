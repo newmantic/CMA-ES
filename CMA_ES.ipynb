{
  "nbformat": 4,
  "nbformat_minor": 0,
  "metadata": {
    "colab": {
      "provenance": [],
      "authorship_tag": "ABX9TyORJeplN6YwDqBVts152FSe",
      "include_colab_link": true
    },
    "kernelspec": {
      "name": "python3",
      "display_name": "Python 3"
    },
    "language_info": {
      "name": "python"
    }
  },
  "cells": [
    {
      "cell_type": "markdown",
      "metadata": {
        "id": "view-in-github",
        "colab_type": "text"
      },
      "source": [
        "<a href=\"https://colab.research.google.com/github/newmantic/CMA-ES/blob/main/CMA_ES.ipynb\" target=\"_parent\"><img src=\"https://colab.research.google.com/assets/colab-badge.svg\" alt=\"Open In Colab\"/></a>"
      ]
    },
    {
      "cell_type": "code",
      "execution_count": 1,
      "metadata": {
        "id": "c6fdrAk3tZU4"
      },
      "outputs": [],
      "source": [
        "import numpy as np\n",
        "\n",
        "class CMAES:\n",
        "    def __init__(self, func, n_dim, population_size=10, sigma=0.5, max_iter=1000):\n",
        "        self.func = func\n",
        "        self.n_dim = n_dim\n",
        "        self.population_size = population_size\n",
        "        self.sigma = sigma\n",
        "        self.max_iter = max_iter\n",
        "\n",
        "        # Initialize the mean vector and covariance matrix\n",
        "        self.mean = np.random.rand(n_dim)\n",
        "        self.cov = np.eye(n_dim)\n",
        "\n",
        "        # Initialize strategy parameters\n",
        "        self.weights = np.log(self.population_size / 2 + 1) - np.log(np.arange(1, self.population_size + 1))\n",
        "        self.weights /= np.sum(self.weights)\n",
        "        self.mueff = 1 / np.sum(self.weights ** 2)\n",
        "        self.cc = (4 + self.mueff / n_dim) / (n_dim + 4 + 2 * self.mueff / n_dim)\n",
        "        self.cs = (self.mueff + 2) / (n_dim + self.mueff + 5)\n",
        "        self.c1 = 2 / ((n_dim + 1.3) ** 2 + self.mueff)\n",
        "        self.cmu = min(1 - self.c1, 2 * (self.mueff - 2 + 1 / self.mueff) / ((n_dim + 2) ** 2 + self.mueff))\n",
        "        self.damps = 1 + 2 * max(0, np.sqrt((self.mueff - 1) / (n_dim + 1)) - 1) + self.cs\n",
        "\n",
        "        # Initialize paths\n",
        "        self.pc = np.zeros(n_dim)\n",
        "        self.ps = np.zeros(n_dim)\n",
        "        self.B = np.eye(n_dim)\n",
        "        self.D = np.ones(n_dim)\n",
        "        self.C = np.eye(n_dim)\n",
        "        self.invsqrtC = np.eye(n_dim)\n",
        "        self.eigen_eval = 0\n",
        "        self.chiN = np.sqrt(n_dim) * (1 - 1 / (4 * n_dim) + 1 / (21 * n_dim ** 2))\n",
        "\n",
        "    def optimize(self):\n",
        "        for generation in range(self.max_iter):\n",
        "            # Generate a population\n",
        "            population = np.array([self.mean + self.sigma * self.B @ (self.D * np.random.randn(self.n_dim))\n",
        "                                   for _ in range(self.population_size)])\n",
        "            fitness = np.array([self.func(ind) for ind in population])\n",
        "            indices = np.argsort(fitness)\n",
        "            population = population[indices]\n",
        "            fitness = fitness[indices]\n",
        "\n",
        "            # Update mean\n",
        "            self.mean = np.dot(self.weights, population[:self.population_size])\n",
        "\n",
        "            # Update evolution paths\n",
        "            y = (self.mean - self.mean) / self.sigma\n",
        "            self.ps = (1 - self.cs) * self.ps + np.sqrt(self.cs * (2 - self.cs) * self.mueff) * self.invsqrtC @ y\n",
        "            hsig = np.linalg.norm(self.ps) / np.sqrt(1 - (1 - self.cs) ** (2 * (generation + 1))) / self.chiN < 1.4 + 2 / (self.n_dim + 1)\n",
        "            self.pc = (1 - self.cc) * self.pc + hsig * np.sqrt(self.cc * (2 - self.cc) * self.mueff) * y\n",
        "\n",
        "            # Update covariance matrix\n",
        "            artmp = (1 / self.sigma) * (population[:self.population_size] - self.mean)\n",
        "            self.C = (1 - self.c1 - self.cmu) * self.C + self.c1 * (np.outer(self.pc, self.pc) + (1 - hsig) * self.cc * (2 - self.cc) * self.C) + self.cmu * artmp.T @ np.diag(self.weights) @ artmp\n",
        "\n",
        "            # Update step-size\n",
        "            self.sigma *= np.exp((self.cs / self.damps) * (np.linalg.norm(self.ps) / self.chiN - 1))\n",
        "\n",
        "            # Decompose the covariance matrix if needed\n",
        "            if generation - self.eigen_eval > self.population_size / (self.c1 + self.cmu) / self.n_dim / 10:\n",
        "                self.eigen_eval = generation\n",
        "                self.C = np.triu(self.C) + np.triu(self.C, 1).T\n",
        "                self.D, self.B = np.linalg.eigh(self.C)\n",
        "                self.D = np.sqrt(self.D)\n",
        "                self.invsqrtC = self.B @ np.diag(1 / self.D) @ self.B.T\n",
        "\n",
        "            # Check for convergence\n",
        "            if np.linalg.norm(fitness[0] - fitness[-1]) < 1e-8:\n",
        "                break\n",
        "\n",
        "        return self.mean"
      ]
    },
    {
      "cell_type": "code",
      "source": [
        "def sphere_function(x):\n",
        "    return np.sum(x ** 2)\n",
        "\n",
        "# Set the dimension of the problem\n",
        "n_dim = 5\n",
        "\n",
        "# Instantiate the CMA-ES optimizer\n",
        "cmaes = CMAES(func=sphere_function, n_dim=n_dim, population_size=10, sigma=0.5, max_iter=1000)\n",
        "\n",
        "# Perform optimization\n",
        "optimal_solution = cmaes.optimize()\n",
        "print(\"Optimal Solution:\", optimal_solution)\n",
        "print(\"Function Value at Optimal Solution:\", sphere_function(optimal_solution))"
      ],
      "metadata": {
        "colab": {
          "base_uri": "https://localhost:8080/"
        },
        "id": "Hor4S6ZCtym7",
        "outputId": "1fdc37ec-675d-4e4c-fec9-8bd6eabf0200"
      },
      "execution_count": 2,
      "outputs": [
        {
          "output_type": "stream",
          "name": "stdout",
          "text": [
            "Optimal Solution: [-1.01855044e-05  8.91807957e-07  9.05891034e-06  2.33830982e-05\n",
            "  1.90115564e-05]\n",
            "Function Value at Optimal Solution: 1.0948122382610533e-09\n"
          ]
        }
      ]
    }
  ]
}